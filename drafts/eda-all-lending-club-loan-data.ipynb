{
 "cells": [
  {
   "cell_type": "markdown",
   "metadata": {},
   "source": [
    "## 1: Loading Dependencies, Packages and Data"
   ]
  },
  {
   "cell_type": "code",
   "execution_count": 1,
   "metadata": {
    "execution": {
     "iopub.status.busy": "2022-02-23T23:04:49.622486Z",
     "iopub.status.idle": "2022-02-23T23:04:49.623294Z",
     "shell.execute_reply": "2022-02-23T23:04:49.623026Z",
     "shell.execute_reply.started": "2022-02-23T23:04:49.622995Z"
    }
   },
   "outputs": [],
   "source": [
    "# Core Dependencies\n",
    "import re\n",
    "import os\n",
    "\n",
    "\n",
    "# Start Python Imports\n",
    "import math, time, random, datetime\n",
    "\n",
    "# Data Manipulation\n",
    "import numpy as np\n",
    "import pandas as pd\n",
    "\n",
    "pd.set_option('display.max_columns', None)\n",
    "pd.options.display.min_rows = 200\n",
    "\n",
    "# Visualization \n",
    "import matplotlib.pyplot as plt\n",
    "import missingno\n",
    "%matplotlib inline \n",
    "import seaborn as sns\n",
    "plt.style.use('seaborn-whitegrid')\n",
    "\n",
    "import warnings\n",
    "warnings.filterwarnings(\"ignore\")"
   ]
  },
  {
   "cell_type": "code",
   "execution_count": 2,
   "metadata": {
    "execution": {
     "iopub.status.busy": "2022-02-23T23:04:49.624767Z",
     "iopub.status.idle": "2022-02-23T23:04:49.625580Z",
     "shell.execute_reply": "2022-02-23T23:04:49.625332Z",
     "shell.execute_reply.started": "2022-02-23T23:04:49.625301Z"
    }
   },
   "outputs": [],
   "source": [
    "accepted_file = \"./accepted_2007_to_2018Q4.csv\"\n",
    "rejected_file = \"./rejected_2007_to_2018Q4.csv\""
   ]
  },
  {
   "cell_type": "code",
   "execution_count": null,
   "metadata": {
    "execution": {
     "iopub.status.busy": "2022-02-23T23:04:49.627056Z",
     "iopub.status.idle": "2022-02-23T23:04:49.627829Z",
     "shell.execute_reply": "2022-02-23T23:04:49.627579Z",
     "shell.execute_reply.started": "2022-02-23T23:04:49.627549Z"
    }
   },
   "outputs": [],
   "source": [
    "acc_df = pd.read_csv(accepted_file)\n",
    "rej_df = pd.read_csv(rejected_file)"
   ]
  },
  {
   "cell_type": "code",
   "execution_count": null,
   "metadata": {
    "execution": {
     "iopub.execute_input": "2022-02-23T23:07:21.172798Z",
     "iopub.status.busy": "2022-02-23T23:07:21.172011Z",
     "iopub.status.idle": "2022-02-23T23:07:21.181108Z",
     "shell.execute_reply": "2022-02-23T23:07:21.180003Z",
     "shell.execute_reply.started": "2022-02-23T23:07:21.172737Z"
    }
   },
   "outputs": [],
   "source": [
    "print(acc_df.shape)\n",
    "print(rej_df.shape)"
   ]
  },
  {
   "cell_type": "markdown",
   "metadata": {},
   "source": [
    "## 2: Feature Selection"
   ]
  },
  {
   "cell_type": "markdown",
   "metadata": {},
   "source": [
    "Due to the large volume of data in the `accepted_2007_to_2018Q4.csv.gz`, of aroud - **(2260701, 151)**. I would be selectively choosing the columns based on the relevancy of the assignment"
   ]
  },
  {
   "cell_type": "code",
   "execution_count": 23,
   "metadata": {
    "execution": {
     "iopub.execute_input": "2022-02-23T23:07:24.004260Z",
     "iopub.status.busy": "2022-02-23T23:07:24.003915Z",
     "iopub.status.idle": "2022-02-23T23:07:24.011028Z",
     "shell.execute_reply": "2022-02-23T23:07:24.009993Z",
     "shell.execute_reply.started": "2022-02-23T23:07:24.004224Z"
    }
   },
   "outputs": [],
   "source": [
    "columns = [\"loan_amnt\", \"term\", \"int_rate\", \"installment\", \"grade\", \"sub_grade\", \"emp_title\",\n",
    "           \"emp_length\", \"home_ownership\", \"annual_inc\", \"verification_status\", \"issue_d\", \"loan_status\",\n",
    "           \"purpose\", \"title\", \"dti\", \"earliest_cr_line\", \"open_acc\", \"pub_rec\", \"revol_bal\", \"revol_util\",\n",
    "           \"total_acc\", \"initial_list_status\", \"application_type\", \"mort_acc\", \"pub_rec_bankruptcies\", \"address\"]"
   ]
  },
  {
   "cell_type": "markdown",
   "metadata": {},
   "source": [
    "Finding the intersection between the above columns and the dataframe columns (used for selection) and also excluding columns further which have atleast 20% NaN values."
   ]
  },
  {
   "cell_type": "code",
   "execution_count": 24,
   "metadata": {
    "execution": {
     "iopub.execute_input": "2022-02-23T23:07:26.362543Z",
     "iopub.status.busy": "2022-02-23T23:07:26.361934Z",
     "iopub.status.idle": "2022-02-23T23:07:33.594113Z",
     "shell.execute_reply": "2022-02-23T23:07:33.593357Z",
     "shell.execute_reply.started": "2022-02-23T23:07:26.362505Z"
    }
   },
   "outputs": [],
   "source": [
    "acc_df = acc_df[acc_df.columns.intersection(columns)]\n",
    "\n",
    "perc = 20.0 \n",
    "min_count =  int(((100-perc)/100)*acc_df.shape[0] + 1)\n",
    "acc_df = acc_df.dropna( axis=1, \n",
    "                thresh=min_count)\n",
    "\n",
    "acc_df = acc_df.sample(frac=0.5, replace=True, random_state=1)"
   ]
  },
  {
   "cell_type": "code",
   "execution_count": 25,
   "metadata": {
    "execution": {
     "iopub.execute_input": "2022-02-23T23:07:38.634538Z",
     "iopub.status.busy": "2022-02-23T23:07:38.634237Z",
     "iopub.status.idle": "2022-02-23T23:07:38.640906Z",
     "shell.execute_reply": "2022-02-23T23:07:38.640188Z",
     "shell.execute_reply.started": "2022-02-23T23:07:38.634506Z"
    }
   },
   "outputs": [],
   "source": [
    "# New shape of the dataframe\n",
    "acc_df.shape"
   ]
  },
  {
   "cell_type": "markdown",
   "metadata": {},
   "source": [
    "Birds eye view of the both the datasets"
   ]
  },
  {
   "cell_type": "code",
   "execution_count": 26,
   "metadata": {
    "execution": {
     "iopub.execute_input": "2022-02-23T23:07:40.929912Z",
     "iopub.status.busy": "2022-02-23T23:07:40.928558Z",
     "iopub.status.idle": "2022-02-23T23:07:41.515290Z",
     "shell.execute_reply": "2022-02-23T23:07:41.514384Z",
     "shell.execute_reply.started": "2022-02-23T23:07:40.929840Z"
    }
   },
   "outputs": [],
   "source": [
    "acc_df.describe()"
   ]
  },
  {
   "cell_type": "code",
   "execution_count": 27,
   "metadata": {
    "execution": {
     "iopub.execute_input": "2022-02-23T23:07:41.517111Z",
     "iopub.status.busy": "2022-02-23T23:07:41.516861Z",
     "iopub.status.idle": "2022-02-23T23:07:44.157069Z",
     "shell.execute_reply": "2022-02-23T23:07:44.156039Z",
     "shell.execute_reply.started": "2022-02-23T23:07:41.517082Z"
    }
   },
   "outputs": [],
   "source": [
    "rej_df.describe()"
   ]
  },
  {
   "cell_type": "code",
   "execution_count": null,
   "metadata": {},
   "outputs": [],
   "source": [
    "acc_df = acc_df.loc[~acc_df.index.duplicated(), :]"
   ]
  },
  {
   "cell_type": "markdown",
   "metadata": {},
   "source": [
    "## 3: Visualization Plots"
   ]
  },
  {
   "cell_type": "markdown",
   "metadata": {},
   "source": [
    "### 3.0 Helper Functions\n"
   ]
  },
  {
   "cell_type": "code",
   "execution_count": 28,
   "metadata": {
    "execution": {
     "iopub.execute_input": "2022-02-23T23:07:44.245936Z",
     "iopub.status.busy": "2022-02-23T23:07:44.245657Z",
     "iopub.status.idle": "2022-02-23T23:07:44.252175Z",
     "shell.execute_reply": "2022-02-23T23:07:44.251366Z",
     "shell.execute_reply.started": "2022-02-23T23:07:44.245906Z"
    }
   },
   "outputs": [],
   "source": [
    "def missing_value_counter(df):\n",
    "    percent_missing_values = df.isnull().sum()\n",
    "    percent_missing_percentage = df.isnull().sum() * 100 / len(df)\n",
    "    \n",
    "    missing_value_df = pd.DataFrame({'column_name': df.columns,\n",
    "                                     'percent_missing': percent_missing_percentage,\n",
    "                                    'count_missing': percent_missing_values})\n",
    "    missing_value_df.sort_values('percent_missing', inplace=True, ascending=False)\n",
    "    return missing_value_df.head(10)"
   ]
  },
  {
   "cell_type": "markdown",
   "metadata": {},
   "source": [
    "### 3.1 Missing Value Visualization\n",
    "\n",
    "The plot below gives an overview of the columnes and their missing data."
   ]
  },
  {
   "cell_type": "code",
   "execution_count": 29,
   "metadata": {
    "execution": {
     "iopub.execute_input": "2022-02-23T23:07:45.513972Z",
     "iopub.status.busy": "2022-02-23T23:07:45.513149Z",
     "iopub.status.idle": "2022-02-23T23:07:58.202770Z",
     "shell.execute_reply": "2022-02-23T23:07:58.201907Z",
     "shell.execute_reply.started": "2022-02-23T23:07:45.513920Z"
    }
   },
   "outputs": [],
   "source": [
    "missingno.matrix(acc_df)"
   ]
  },
  {
   "cell_type": "code",
   "execution_count": 30,
   "metadata": {
    "execution": {
     "iopub.execute_input": "2022-02-23T23:07:58.204542Z",
     "iopub.status.busy": "2022-02-23T23:07:58.204305Z",
     "iopub.status.idle": "2022-02-23T23:08:02.041813Z",
     "shell.execute_reply": "2022-02-23T23:08:02.040924Z",
     "shell.execute_reply.started": "2022-02-23T23:07:58.204514Z"
    }
   },
   "outputs": [],
   "source": [
    "missing_value_counter(acc_df)"
   ]
  },
  {
   "cell_type": "markdown",
   "metadata": {},
   "source": [
    "The above is a count and percentage of the top 10 missing values of the accpeted data"
   ]
  },
  {
   "cell_type": "markdown",
   "metadata": {},
   "source": [
    "## 3.2 Loan Status Count\n",
    "\n",
    "This plot show the count of account based on their loan status"
   ]
  },
  {
   "cell_type": "code",
   "execution_count": 31,
   "metadata": {
    "execution": {
     "iopub.execute_input": "2022-02-23T23:08:39.348333Z",
     "iopub.status.busy": "2022-02-23T23:08:39.347952Z",
     "iopub.status.idle": "2022-02-23T23:08:41.061947Z",
     "shell.execute_reply": "2022-02-23T23:08:41.061041Z",
     "shell.execute_reply.started": "2022-02-23T23:08:39.348298Z"
    }
   },
   "outputs": [],
   "source": [
    "fig = plt.figure(figsize=(20,5))\n",
    "sns.countplot(y='loan_status', data=acc_df);"
   ]
  },
  {
   "cell_type": "markdown",
   "metadata": {},
   "source": [
    "Fully paid are the highest followed by current and the charged off. Most of the loan accounts are either paid off or the payment is still in progress"
   ]
  },
  {
   "cell_type": "markdown",
   "metadata": {},
   "source": [
    "## 3.3 HeatMap\n",
    "\n",
    "The below heatmap shows a correlation between attributes. A few key observations from the heatmap is that:\n",
    "- installment and loan amount are heavily correlated, which implies greater the loan amount, higher the installments and vice versa.\n",
    "- total_acc and open_acc are correlated\n",
    "- publci_rec_bankruptcies and public_rec are correlated"
   ]
  },
  {
   "cell_type": "code",
   "execution_count": 32,
   "metadata": {
    "execution": {
     "iopub.execute_input": "2022-02-23T23:08:46.681072Z",
     "iopub.status.busy": "2022-02-23T23:08:46.680542Z",
     "iopub.status.idle": "2022-02-23T23:08:48.276064Z",
     "shell.execute_reply": "2022-02-23T23:08:48.275160Z",
     "shell.execute_reply.started": "2022-02-23T23:08:46.681030Z"
    }
   },
   "outputs": [],
   "source": [
    "fig= plt.figure(figsize=(12, 8))\n",
    "sns.heatmap(acc_df.corr(), annot=True, cmap='viridis')"
   ]
  },
  {
   "cell_type": "markdown",
   "metadata": {},
   "source": [
    "## 3.4 Grade Count Plot\n",
    "\n",
    "A higher LC assigned loan grade implies the more likely a borrower would repay the loan. The acceptance rate is more distributed to candidates with a grade of `A, B and C`. "
   ]
  },
  {
   "cell_type": "code",
   "execution_count": 33,
   "metadata": {
    "execution": {
     "iopub.execute_input": "2022-02-23T23:08:51.124032Z",
     "iopub.status.busy": "2022-02-23T23:08:51.123647Z",
     "iopub.status.idle": "2022-02-23T23:08:52.616080Z",
     "shell.execute_reply": "2022-02-23T23:08:52.615204Z",
     "shell.execute_reply.started": "2022-02-23T23:08:51.123980Z"
    }
   },
   "outputs": [],
   "source": [
    "fig = plt.figure(figsize=(20, 4))\n",
    "sns.countplot(y=\"grade\", data=acc_df)"
   ]
  },
  {
   "cell_type": "markdown",
   "metadata": {},
   "source": [
    "## 3.5 Installment vs Loan Status vs Count"
   ]
  },
  {
   "cell_type": "code",
   "execution_count": 57,
   "metadata": {
    "execution": {
     "iopub.execute_input": "2022-02-23T23:34:00.709177Z",
     "iopub.status.busy": "2022-02-23T23:34:00.708790Z",
     "iopub.status.idle": "2022-02-23T23:34:07.827209Z",
     "shell.execute_reply": "2022-02-23T23:34:07.826150Z",
     "shell.execute_reply.started": "2022-02-23T23:34:00.709141Z"
    }
   },
   "outputs": [],
   "source": [
    "fig = plt.figure(figsize=(10, 10))\n",
    "sns.histplot(data=acc_df, x=\"installment\", bins=30, kde=True, hue=\"loan_status\")"
   ]
  },
  {
   "cell_type": "markdown",
   "metadata": {},
   "source": [
    "## 3.6 Loan Status vs Other Attributes\n",
    "\n",
    "The below plots have 4 subplots where each certain significance <br>\n",
    "- **Plot 1:** Terms vs Loan Status - Relation between how terms affected the loan status. \n",
    "- **Plot 2:** Home Onwership vs Loan Status - No significant differnece between this comparision\n",
    "- **Plot 3:** Verification Status vs Loan Status \n",
    "- **Plot 4:** Debt vs Loan Status - Loan charged off significantly for debt consolidation\n",
    "\n"
   ]
  },
  {
   "cell_type": "code",
   "execution_count": 37,
   "metadata": {
    "execution": {
     "iopub.execute_input": "2022-02-23T23:09:48.667157Z",
     "iopub.status.busy": "2022-02-23T23:09:48.666274Z",
     "iopub.status.idle": "2022-02-23T23:09:55.448295Z",
     "shell.execute_reply": "2022-02-23T23:09:55.447181Z",
     "shell.execute_reply.started": "2022-02-23T23:09:48.667110Z"
    }
   },
   "outputs": [],
   "source": [
    "paid_charged = acc_df.loc[(acc_df[\"loan_status\"] == \"Fully Paid\") | (acc_df[\"loan_status\"] == \"Charged Off\")]\n",
    "\n",
    "plt.figure(figsize=(15, 20))\n",
    "\n",
    "plt.subplot(4, 2, 1)\n",
    "sns.countplot(x='term', data=paid_charged, hue='loan_status')\n",
    "\n",
    "plt.subplot(4, 2, 2)\n",
    "sns.countplot(x='home_ownership', data=paid_charged, hue='loan_status')\n",
    "\n",
    "plt.subplot(4, 2, 3)\n",
    "sns.countplot(x='verification_status', data=paid_charged, hue='loan_status')\n",
    "\n",
    "plt.subplot(4, 2, 4)\n",
    "g = sns.countplot(x='purpose', data=paid_charged, hue='loan_status')\n",
    "g.set_xticklabels(g.get_xticklabels(), rotation=90);"
   ]
  },
  {
   "cell_type": "markdown",
   "metadata": {},
   "source": [
    "## 3.7 Grade vs Loan Status\n",
    "Key Observations:\n",
    "- As grade goes higher the count of charged off increases. There is a higher risk in allocating loan to candidates with a higher grade.\n",
    "- Grade C onwards has higher loan fully paid to charged off ratio.\n",
    "- Looking at the sub grade, it follows a normal distribution of loan fully paid to charged off ratio."
   ]
  },
  {
   "cell_type": "code",
   "execution_count": 63,
   "metadata": {
    "execution": {
     "iopub.execute_input": "2022-02-23T23:49:46.625774Z",
     "iopub.status.busy": "2022-02-23T23:49:46.625490Z",
     "iopub.status.idle": "2022-02-23T23:50:05.978306Z",
     "shell.execute_reply": "2022-02-23T23:50:05.977625Z",
     "shell.execute_reply.started": "2022-02-23T23:49:46.625745Z"
    }
   },
   "outputs": [],
   "source": [
    "plt.figure(figsize=(15, 10))\n",
    "\n",
    "plt.subplot(2, 2, 1)\n",
    "grade = sorted(paid_charged.grade.unique().tolist())\n",
    "sns.countplot(x='grade', data=paid_charged, hue='loan_status', order=grade)\n",
    "\n",
    "plt.subplot(2, 2, 2)\n",
    "sub_grade = sorted(paid_charged.sub_grade.unique().tolist())\n",
    "g = sns.countplot(x='sub_grade', data=paid_charged, hue='loan_status', order=sub_grade)\n",
    "g.set_xticklabels(g.get_xticklabels(), rotation=90);\n"
   ]
  },
  {
   "cell_type": "markdown",
   "metadata": {},
   "source": [
    "## 3.8 Employment vs Loan Status\n",
    "- Candidates with over 10+ years of experience tend to have lower fully paid to charged off ratio"
   ]
  },
  {
   "cell_type": "code",
   "execution_count": 59,
   "metadata": {
    "execution": {
     "iopub.execute_input": "2022-02-23T23:37:58.150393Z",
     "iopub.status.busy": "2022-02-23T23:37:58.150163Z",
     "iopub.status.idle": "2022-02-23T23:37:59.672555Z",
     "shell.execute_reply": "2022-02-23T23:37:59.671542Z",
     "shell.execute_reply.started": "2022-02-23T23:37:58.150365Z"
    }
   },
   "outputs": [],
   "source": [
    "plt.figure(figsize=(8, 6))\n",
    "order = ['< 1 year', '1 year', '2 years', '3 years', '4 years', '5 years', \n",
    "          '6 years', '7 years', '8 years', '9 years', '10+ years',]\n",
    "g = sns.countplot(x='emp_length', data=paid_charged, hue='loan_status', order=order)\n",
    "g.set_xticklabels(g.get_xticklabels(), rotation=90);"
   ]
  },
  {
   "cell_type": "markdown",
   "metadata": {},
   "source": [
    "## 3.9 Employee Title vs Loans Accepted\n",
    "- Maximum number of loans are accepted for professions with a more stable jobs (according to the society) like Teacher, Nurse, Owner and etc.."
   ]
  },
  {
   "cell_type": "code",
   "execution_count": 60,
   "metadata": {
    "execution": {
     "iopub.execute_input": "2022-02-23T23:37:59.674414Z",
     "iopub.status.busy": "2022-02-23T23:37:59.674085Z",
     "iopub.status.idle": "2022-02-23T23:38:01.113409Z",
     "shell.execute_reply": "2022-02-23T23:38:01.112390Z",
     "shell.execute_reply.started": "2022-02-23T23:37:59.674370Z"
    }
   },
   "outputs": [],
   "source": [
    "plt.figure(figsize=(8, 6))\n",
    "plt.barh(paid_charged.emp_title.value_counts()[:40].index, paid_charged.emp_title.value_counts()[:40])\n",
    "plt.title(\"The most 30 jobs title afforded a loan\")\n",
    "plt.tight_layout()"
   ]
  },
  {
   "cell_type": "markdown",
   "metadata": {},
   "source": [
    "## 3.10 Application Type vs Loan Status\n",
    "- This plot focuses more on loan status in accordance with the application type"
   ]
  },
  {
   "cell_type": "code",
   "execution_count": 64,
   "metadata": {
    "execution": {
     "iopub.execute_input": "2022-02-23T23:59:50.256217Z",
     "iopub.status.busy": "2022-02-23T23:59:50.255850Z",
     "iopub.status.idle": "2022-02-23T23:59:51.807596Z",
     "shell.execute_reply": "2022-02-23T23:59:51.806347Z",
     "shell.execute_reply.started": "2022-02-23T23:59:50.256184Z"
    }
   },
   "outputs": [],
   "source": [
    "plt.figure(figsize=(8, 6))\n",
    "sns.countplot(x=\"application_type\", data=paid_charged, hue=\"loan_status\")"
   ]
  }
 ],
 "metadata": {
  "kernelspec": {
   "display_name": "Python 3",
   "language": "python",
   "name": "python3"
  },
  "language_info": {
   "codemirror_mode": {
    "name": "ipython",
    "version": 3
   },
   "file_extension": ".py",
   "mimetype": "text/x-python",
   "name": "python",
   "nbconvert_exporter": "python",
   "pygments_lexer": "ipython3",
   "version": "3.8.8"
  }
 },
 "nbformat": 4,
 "nbformat_minor": 4
}
